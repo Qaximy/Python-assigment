{
 "cells": [
  {
   "cell_type": "code",
   "execution_count": 1,
   "id": "ec9e6c83",
   "metadata": {},
   "outputs": [],
   "source": [
    "# Tuple Manipulation\n",
    "# Create a tuple of numbers. Write a function that returns the sum of the numbers in the tuple.\n",
    "\n",
    "# List Reversal\n",
    "# Write a function that takes a list of strings and returns the list with its elements reversed.\n",
    "\n",
    "# Dictionary Merge\n",
    "# Create two dictionaries with some overlapping keys. Write a function that merges them, giving priority to values in the second dictionary for overlapping keys.\n",
    "\n",
    "# Count Vowels in a String\n",
    "# Write a function that takes a string and returns a dictionary with the count of each vowel in the string.\n",
    "\n",
    "# Find Common Elements\n",
    "# Write a function that takes two lists and returns a list of elements that are common to both lists.\n",
    "\n",
    "# Sort a List of Tuples\n",
    "# Create a list of tuples representing (name, age). Write a function to sort this list by age.\n",
    "\n",
    "# Create a Nested Dictionary\n",
    "# Create a nested dictionary representing a classroom, where each student has a name and a list of grades. Write a function to calculate the average grade for each student.\n",
    "\n",
    "# Filter Even Numbers\n",
    "# Write a function that takes a list of integers and returns a new list containing only the even numbers.\n",
    "\n",
    "# Flatten a List of Lists\n",
    "# Given a list of lists, write a function that flattens it into a single list.\n",
    "\n",
    "# Unique Elements\n",
    "# Write a function that takes a list and returns a list of unique elements, preserving the original order.\n",
    "\n",
    "# Character Frequency\n",
    "# Write a function that takes a string and returns a dictionary with each character as a key and its frequency as the value.\n",
    "\n",
    "# Temperature Conversion\n",
    "# Create a function that takes a list of temperatures in Celsius and returns a list of the corresponding temperatures in Fahrenheit.\n",
    "\n",
    "# List Comprehension with Conditions\n",
    "# Using list comprehension, create a list of squares of even numbers from a given list of integers.\n",
    "\n",
    "# Remove Duplicates from a List\n",
    "# Write a function that removes duplicate values from a list while maintaining the original order of elements.\n",
    "\n",
    "# Matrix Transposition\n",
    "# Write a function that takes a 2D list (matrix) and returns its transpose."
   ]
  },
  {
   "cell_type": "code",
   "execution_count": 2,
   "id": "e1501406",
   "metadata": {},
   "outputs": [
    {
     "name": "stdout",
     "output_type": "stream",
     "text": [
      "50\n"
     ]
    }
   ],
   "source": [
    "# Q1\n",
    "# Tuple Manipulation\n",
    "# Create a tuple of numbers. Write a function that returns the sum of the numbers in the tuple.\n",
    "numbers = (5, 10, 15, 20)\n",
    "total_sum = 0\n",
    "for num in numbers:\n",
    "    total_sum += num\n",
    "print(total_sum)"
   ]
  },
  {
   "cell_type": "code",
   "execution_count": 3,
   "id": "7079e8d5",
   "metadata": {},
   "outputs": [
    {
     "name": "stdout",
     "output_type": "stream",
     "text": [
      "['abbas', 'mustafa', 'murtaza', 'ahmed', 'ali']\n"
     ]
    }
   ],
   "source": [
    "# Q2\n",
    "# List Reversal\n",
    "# Write a function that takes a list of strings and returns the list with its elements reversed.\n",
    "name = ['ali','ahmed', 'murtaza','mustafa','abbas']\n",
    "name.reverse()\n",
    "print(name)"
   ]
  },
  {
   "cell_type": "code",
   "execution_count": 4,
   "id": "a67769b7",
   "metadata": {},
   "outputs": [
    {
     "name": "stdout",
     "output_type": "stream",
     "text": [
      "{'class': 'BS', 'address': 'skardu', 'name': 'nazira', 'age': 22}\n"
     ]
    }
   ],
   "source": [
    "# Q3\n",
    "# D\n",
    "# Dictionary Merge\n",
    "# Create two dictionaries with some overlapping keys. Write a function that merges them, giving priority to values in the second dictionary for overlapping keys.\n",
    "dict1={'name':'nazira','age':22}\n",
    "dict2={'class':'BS','address':'skardu'}\n",
    "dict2.update(dict1)\n",
    "print(dict2)"
   ]
  },
  {
   "cell_type": "code",
   "execution_count": 6,
   "id": "4c57f159",
   "metadata": {},
   "outputs": [
    {
     "name": "stdout",
     "output_type": "stream",
     "text": [
      "number of vowels  6\n"
     ]
    }
   ],
   "source": [
    "# Q4\n",
    "# Count Vowels in a String\n",
    "# Write a function that takes a string and returns a dictionary with the count of each vowel in the string\n",
    "\n",
    "string = \"Hello, how are you?\"\n",
    "vowels = 'aeioAEIO'\n",
    "count = 0\n",
    "for char in string:\n",
    "    if char in vowels:\n",
    "        count += 1\n",
    "\n",
    "print('number of vowels ',count)"
   ]
  },
  {
   "cell_type": "code",
   "execution_count": 8,
   "id": "0e821383",
   "metadata": {},
   "outputs": [
    {
     "name": "stdout",
     "output_type": "stream",
     "text": [
      "[4, 5]\n"
     ]
    }
   ],
   "source": [
    "# Q5\n",
    "# Find Common Elements\n",
    "# Write a function that takes two lists and returns a list of elements that are common to both lists.\n",
    "\n",
    "list1 = [1, 2, 3, 4, 5]\n",
    "list2 = [4, 5, 6, 7, 8]\n",
    "common_elements = []\n",
    "for element in list1:\n",
    "    if element in list2:\n",
    "        common_elements.append(element)\n",
    "\n",
    "print(common_elements)\n"
   ]
  },
  {
   "cell_type": "code",
   "execution_count": 9,
   "id": "d8bf21bf",
   "metadata": {},
   "outputs": [
    {
     "name": "stdout",
     "output_type": "stream",
     "text": [
      "[('ali', 11), ('ahmed', 26), ('abis', 2), ('azhar', 24)]\n"
     ]
    }
   ],
   "source": [
    "# Q6\n",
    "# Sort a List of Tuples\n",
    "# Create a list of tuples representing (name, age). Write a function to sort this list by age.\n",
    "name = [('ali',11),('ahmed',26),('abis',2),('azhar',24)]\n",
    "sort= sorted(name)\n",
    "print(name)"
   ]
  },
  {
   "cell_type": "code",
   "execution_count": 14,
   "id": "6a6fb292",
   "metadata": {},
   "outputs": [
    {
     "name": "stdout",
     "output_type": "stream",
     "text": [
      "---data--- : {'name': 'Alice', 'grades': [85, 90, 78]}\n",
      "---student---: Alice\n",
      "---grades---: [85, 90, 78]\n",
      "---data--- : {'name': 'Bob', 'grades': [82, 88, 91]}\n",
      "---student---: Bob\n",
      "---grades---: [82, 88, 91]\n",
      "---data--- : {'name': 'Charlie', 'grades': [90, 85, 87]}\n",
      "---student---: Charlie\n",
      "---grades---: [90, 85, 87]\n",
      "---data--- : {'name': 'Diana', 'grades': [92, 80, 84]}\n",
      "---student---: Diana\n",
      "---grades---: [92, 80, 84]\n",
      "Average grades: None\n"
     ]
    }
   ],
   "source": [
    "# Create a Nested Dictionary\n",
    "# Create a nested dictionary representing a classroom, where each student has a name and a list of grades. Write a function to calculate the average grade for each student\n",
    "\n",
    "def calculate_averages(classroom):\n",
    "    averages = {}\n",
    "    for student, data in classroom.items():\n",
    "        print('---data--- :',data)\n",
    "        print('---student---:',student)\n",
    "        grades = data['grades']\n",
    "        print(\"---grades---:\",grades)\n",
    "       \n",
    "\n",
    "classroom = {\n",
    "    \"Alice\": {\"name\": \"Alice\", \"grades\": [85, 90, 78]},\n",
    "    \"Bob\": {\"name\": \"Bob\", \"grades\": [82, 88, 91]},\n",
    "    \"Charlie\": {\"name\": \"Charlie\", \"grades\": [90, 85, 87]},\n",
    "    \"Diana\": {\"name\": \"Diana\", \"grades\": [92, 80, 84]}\n",
    "}\n",
    "\n",
    "averages = calculate_averages(classroom)\n",
    "\n",
    "print(\"Average grades:\", averages)"
   ]
  },
  {
   "cell_type": "code",
   "execution_count": 16,
   "id": "abe717e5",
   "metadata": {},
   "outputs": [
    {
     "name": "stdout",
     "output_type": "stream",
     "text": [
      "[2, 4]\n"
     ]
    }
   ],
   "source": [
    "# Q8\n",
    "# Filter Even Numbers\n",
    "# Write a function that takes a list of integers and returns a new list containing only the even numbers.\n",
    "# Python code to filter even values from a list\n",
    "list1 = [1, 2, 3, 4, 5]\n",
    "out = []\n",
    "\n",
    "for num in list1:\n",
    "    if num % 2 == 0:\n",
    "        out.append(num)\n",
    "print(out)"
   ]
  },
  {
   "cell_type": "code",
   "execution_count": 23,
   "id": "fc2fc38f",
   "metadata": {},
   "outputs": [
    {
     "name": "stdout",
     "output_type": "stream",
     "text": [
      "[1, 2, 3, 4, 5]\n"
     ]
    }
   ],
   "source": [
    "# Q10\n",
    "# Unique Elements\n",
    "# Write a function that takes a list and returns a list of unique elements, preserving the original order.\n",
    "a = [1, 2, 1, 1, 3, 4, 3, 3, 5]\n",
    "b =list(set(a))\n",
    "print(b)"
   ]
  },
  {
   "cell_type": "code",
   "execution_count": 24,
   "id": "111536d6",
   "metadata": {},
   "outputs": [],
   "source": [
    "\n",
    "# Q11\n",
    "# Character Frequency\n",
    "# Write a function that takes a string and returns a dictionary with each character as a key and its frequency as the value."
   ]
  },
  {
   "cell_type": "code",
   "execution_count": 25,
   "id": "a18cc163",
   "metadata": {},
   "outputs": [
    {
     "name": "stdout",
     "output_type": "stream",
     "text": [
      "(47, 116.60000000000001)\n"
     ]
    }
   ],
   "source": [
    "\n",
    "# Q12\n",
    "# Temperature Conversion\n",
    "# Create a function that takes a list of temperatures in Celsius and returns a list of the corresponding temperatures in Fahrenheit.\n",
    "celsius = 47\n",
    "temprature = (celsius * 1.8) + 32\n",
    "print((celsius, temprature))"
   ]
  },
  {
   "cell_type": "code",
   "execution_count": 26,
   "id": "2d3d21f1",
   "metadata": {},
   "outputs": [
    {
     "name": "stdout",
     "output_type": "stream",
     "text": [
      "[2, 4, 6, 8, 10]\n"
     ]
    }
   ],
   "source": [
    "\n",
    "# Q13\n",
    "# List Comprehension with Conditions\n",
    "# Using list comprehension, create a list of squares of even numbers from a given list of integers.\n",
    "numbers = [1, 2, 3, 4, 5, 6, 7, 8, 9, 10]\n",
    "num = [] \n",
    "for num1 in numbers:\n",
    "    if num1 % 2 == 0:  \n",
    "        num.append(num1)  \n",
    "print(num)"
   ]
  },
  {
   "cell_type": "code",
   "execution_count": 27,
   "id": "2e3da75f",
   "metadata": {},
   "outputs": [
    {
     "name": "stdout",
     "output_type": "stream",
     "text": [
      "['a', 'b', 'c']\n"
     ]
    }
   ],
   "source": [
    "# Q14\n",
    "mylist = [\"a\", \"b\", \"a\", \"c\", \"c\"]\n",
    "mylist = list(dict.fromkeys(mylist))\n",
    "print(mylist)"
   ]
  },
  {
   "cell_type": "code",
   "execution_count": null,
   "id": "5daa6e2e",
   "metadata": {},
   "outputs": [],
   "source": [
    "#Q15\n",
    "# Matrix Transposition\n",
    "# Write a function that takes a 2D list (matrix) and returns its transpose.\n",
    "original_matrix = [\n",
    "    [1, 2, 3],\n",
    "    [4, 5, 6],\n",
    "    [7, 8, 9]\n",
    "]\n",
    "transposed_matrix = []"
   ]
  }
 ],
 "metadata": {
  "kernelspec": {
   "display_name": "Python 3 (ipykernel)",
   "language": "python",
   "name": "python3"
  },
  "language_info": {
   "codemirror_mode": {
    "name": "ipython",
    "version": 3
   },
   "file_extension": ".py",
   "mimetype": "text/x-python",
   "name": "python",
   "nbconvert_exporter": "python",
   "pygments_lexer": "ipython3",
   "version": "3.10.9"
  }
 },
 "nbformat": 4,
 "nbformat_minor": 5
}
